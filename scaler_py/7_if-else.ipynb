{
 "cells": [
  {
   "cell_type": "code",
   "execution_count": 9,
   "id": "01504bd1-423b-4f05-9e88-1b967c87c319",
   "metadata": {},
   "outputs": [
    {
     "name": "stdout",
     "output_type": "stream",
     "text": [
      "ths line executes\n",
      "ths line executes\n"
     ]
    }
   ],
   "source": [
    "# control statement : if , if-else , if-elif-else\n",
    "\n",
    "# True : True , any non-zero value\n",
    "# False : False , 0 , None\n",
    "\n",
    "if True :\n",
    "    print(\"ths line executes\")\n",
    "\n",
    "if -1 :\n",
    "    print(\"ths line executes\")\n",
    "\n",
    "if False:\n",
    "    print (\"doesnt execute\")\n",
    "\n",
    "if 0 :\n",
    "    print(\"ths line executes\")\n",
    "\n",
    "if 10-10 :\n",
    "    print(\"ths line executes\")\n",
    "\n",
    "if None :\n",
    "    print(\"ths line executes\")"
   ]
  },
  {
   "cell_type": "code",
   "execution_count": 15,
   "id": "aac4e76a-ad6e-4ec6-8b69-dfe08249ed72",
   "metadata": {},
   "outputs": [
    {
     "name": "stdout",
     "output_type": "stream",
     "text": [
      "if-1\n",
      "else-2\n"
     ]
    }
   ],
   "source": [
    "# if-else\n",
    "\n",
    "if True:\n",
    "    print(\"if-1\")\n",
    "else :\n",
    "    print (\"else-1\")\n",
    "\n",
    "if False:\n",
    "    print(\"if-2\")\n",
    "else :\n",
    "    print (\"else-2\")"
   ]
  },
  {
   "cell_type": "code",
   "execution_count": 17,
   "id": "1a31902f-20a1-46c9-9b13-533dd775a633",
   "metadata": {},
   "outputs": [
    {
     "name": "stdout",
     "output_type": "stream",
     "text": [
      "elif ...\n"
     ]
    }
   ],
   "source": [
    "# if-elif-else\n",
    "\n",
    "if False:\n",
    "    print(\"if\")\n",
    "elif True:\n",
    "    print (\"elif ...\")\n",
    "else :\n",
    "    print(\"else\")"
   ]
  }
 ],
 "metadata": {
  "kernelspec": {
   "display_name": "Python [conda env:base] *",
   "language": "python",
   "name": "conda-base-py"
  },
  "language_info": {
   "codemirror_mode": {
    "name": "ipython",
    "version": 3
   },
   "file_extension": ".py",
   "mimetype": "text/x-python",
   "name": "python",
   "nbconvert_exporter": "python",
   "pygments_lexer": "ipython3",
   "version": "3.12.7"
  }
 },
 "nbformat": 4,
 "nbformat_minor": 5
}
