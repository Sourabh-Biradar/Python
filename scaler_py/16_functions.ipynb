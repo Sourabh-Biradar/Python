{
 "cells": [
  {
   "cell_type": "code",
   "execution_count": 4,
   "id": "8a10f773-a520-45f8-9b84-f45c7f79c1da",
   "metadata": {},
   "outputs": [
    {
     "name": "stdout",
     "output_type": "stream",
     "text": [
      "Hello Abc\n"
     ]
    }
   ],
   "source": [
    "# functions (fn) : set of code that perform specific task\n",
    "\n",
    "def person (name) :                       # person = fn name ; name = parameter\n",
    "    print (\"Hello\",name)                  # fn body\n",
    "\n",
    " \n",
    "person(\"Abc\")                             # fn call ; \"Abc\" arguement passed to person() gets stored in 'name' parameter      "
   ]
  },
  {
   "cell_type": "code",
   "execution_count": 8,
   "id": "bfbbccc3-eaf2-4bbe-b64f-a4b23ef2963e",
   "metadata": {},
   "outputs": [
    {
     "name": "stdout",
     "output_type": "stream",
     "text": [
      "Hello Abc\n"
     ]
    }
   ],
   "source": [
    "# return (optional)\n",
    "\n",
    "def person (name) :                       # person = fn name ; name = parameter\n",
    "    return \"Hello \" + name                 # fn body\n",
    "\n",
    " \n",
    "x = person(\"Abc\")                         # 'x' catches whtas returned by person()\n",
    "print(x)"
   ]
  },
  {
   "cell_type": "code",
   "execution_count": 12,
   "id": "32e21719-cc47-4ea2-addc-d49dfc6f2538",
   "metadata": {},
   "outputs": [
    {
     "name": "stdout",
     "output_type": "stream",
     "text": [
      "Bluru Karnataka\n"
     ]
    }
   ],
   "source": [
    "# fn arguements\n",
    "\n",
    "def address(city,state):          # multiple params\n",
    "    print(city,state)\n",
    "\n",
    "address('Bluru','Karnataka')      # therefore multiple arguements\n",
    "\n",
    "address('Mumbai')                 # TypeError : one arguement missing"
   ]
  },
  {
   "cell_type": "code",
   "execution_count": 16,
   "id": "77af64d9-b790-428f-9c1b-4498c1de5e5c",
   "metadata": {},
   "outputs": [
    {
     "name": "stdout",
     "output_type": "stream",
     "text": [
      "Mumbai Maharastra\n",
      "Bluru Karnataka\n"
     ]
    }
   ],
   "source": [
    "# default argument\n",
    "\n",
    "def address(city,state='Maharastra'):           # if second arg is not given default(Maharastra) is taken\n",
    "    print(city,state)\n",
    "\n",
    "address('Mumbai')                               # second arg default(Maharastra)\n",
    "\n",
    "address('Bluru','Karnataka')                    # if given overrides default"
   ]
  },
  {
   "cell_type": "code",
   "execution_count": 22,
   "id": "0d955dd3-0d97-493a-9f7e-e99740e96174",
   "metadata": {},
   "outputs": [
    {
     "name": "stdout",
     "output_type": "stream",
     "text": [
      "Abc\n",
      "Xyz\n",
      "5\n"
     ]
    }
   ],
   "source": [
    "# arbitrary / varadic args\n",
    "\n",
    "def students(*names):              # all args in tuple(names)\n",
    "    for i in names:\n",
    "        print(i)                   # unpacks tuple(names)\n",
    "\n",
    "\n",
    "students('Abc','Xyz',5)"
   ]
  }
 ],
 "metadata": {
  "kernelspec": {
   "display_name": "Python [conda env:base] *",
   "language": "python",
   "name": "conda-base-py"
  },
  "language_info": {
   "codemirror_mode": {
    "name": "ipython",
    "version": 3
   },
   "file_extension": ".py",
   "mimetype": "text/x-python",
   "name": "python",
   "nbconvert_exporter": "python",
   "pygments_lexer": "ipython3",
   "version": "3.12.7"
  }
 },
 "nbformat": 4,
 "nbformat_minor": 5
}
