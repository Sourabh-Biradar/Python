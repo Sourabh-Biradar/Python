{
 "cells": [
  {
   "cell_type": "code",
   "execution_count": 2,
   "id": "e225d6dc-5f0b-493a-aaed-0211582ee760",
   "metadata": {},
   "outputs": [
    {
     "data": {
      "text/plain": [
       "dict"
      ]
     },
     "execution_count": 2,
     "metadata": {},
     "output_type": "execute_result"
    }
   ],
   "source": [
    "# dict \n",
    "\n",
    "d = {1:'a',2:'b'}\n",
    "\n",
    "type(d)"
   ]
  },
  {
   "cell_type": "code",
   "execution_count": 4,
   "id": "bb746774-026b-4f12-af4b-1121a1b04ce4",
   "metadata": {},
   "outputs": [
    {
     "name": "stdout",
     "output_type": "stream",
     "text": [
      "{1: 'abc', 'two': [1, 2, 3]}\n"
     ]
    }
   ],
   "source": [
    "d = {1:'abc','two':[1,2,3]}   # mixed DT\n",
    "print(d)                     "
   ]
  },
  {
   "cell_type": "code",
   "execution_count": 8,
   "id": "5a127a10-a499-4c13-87f8-27da4d5b841b",
   "metadata": {},
   "outputs": [
    {
     "name": "stdout",
     "output_type": "stream",
     "text": [
      "{1: 'ABC', 'x': 123}\n"
     ]
    }
   ],
   "source": [
    "# using list + tuple\n",
    "\n",
    "d = dict([(1,'ABC'), ('x',123)])\n",
    "print(d)"
   ]
  },
  {
   "cell_type": "code",
   "execution_count": 12,
   "id": "93836c36-9b52-414f-b55f-bb938ca9c238",
   "metadata": {},
   "outputs": [
    {
     "name": "stdout",
     "output_type": "stream",
     "text": [
      "ABC\n"
     ]
    }
   ],
   "source": [
    "# accessing values using key\n",
    "\n",
    "print(d[1])\n",
    "\n",
    "print(d[2])    # KeyError since no key"
   ]
  },
  {
   "cell_type": "code",
   "execution_count": 14,
   "id": "262074d2-dc88-4654-95c8-4ffa40bc8208",
   "metadata": {},
   "outputs": [
    {
     "name": "stdout",
     "output_type": "stream",
     "text": [
      "ABC\n",
      "None\n"
     ]
    }
   ],
   "source": [
    "# using get(key)\n",
    "\n",
    "print(d.get(1))\n",
    "\n",
    "print(d.get(2))    # None since no key"
   ]
  },
  {
   "cell_type": "code",
   "execution_count": 18,
   "id": "a801c24c-d5c3-43ad-8b9a-392e14543686",
   "metadata": {},
   "outputs": [
    {
     "name": "stdout",
     "output_type": "stream",
     "text": [
      "{1: 'XYZ', 'x': 123}\n",
      "{1: 'XYZ', 'x': 123, 2: 'MNO'}\n"
     ]
    }
   ],
   "source": [
    "# update\n",
    "\n",
    "d[1] = 'XYZ'     # updates key 1\n",
    "print(d)\n",
    "\n",
    "d[2] = 'MNO'\n",
    "print(d)         # adds key:value since no key"
   ]
  },
  {
   "cell_type": "code",
   "execution_count": 22,
   "id": "344c4797-7cab-40f7-9875-6f030c0a7652",
   "metadata": {},
   "outputs": [],
   "source": [
    "# pop , popitem , del , clear \n",
    "\n",
    "d.pop('x')          # deletes key=x\n",
    "\n",
    "d.popitem()       # deletes random k:v\n",
    "\n",
    "del d[1]          # deletes key=1\n",
    "\n",
    "d.clear()         # empty dict\n",
    "\n",
    "del d             # deletes dict ; whn accessed NameError      "
   ]
  },
  {
   "cell_type": "code",
   "execution_count": 30,
   "id": "324b07c6-0b9f-4896-a2b4-9936eb2efccc",
   "metadata": {},
   "outputs": [
    {
     "data": {
      "text/plain": [
       "dict_items([(1, 'ABC'), ('x', 123)])"
      ]
     },
     "execution_count": 30,
     "metadata": {},
     "output_type": "execute_result"
    }
   ],
   "source": [
    "d = {1:'ABC', 'x':123}\n",
    "d.items()"
   ]
  },
  {
   "cell_type": "code",
   "execution_count": 32,
   "id": "2185b73d-0885-4373-a51e-5da2c4eef97e",
   "metadata": {},
   "outputs": [
    {
     "data": {
      "text/plain": [
       "dict_values(['ABC', 123])"
      ]
     },
     "execution_count": 32,
     "metadata": {},
     "output_type": "execute_result"
    }
   ],
   "source": [
    "d.keys()   # gives all keys\n",
    "\n",
    "d.values()  # gives all values"
   ]
  }
 ],
 "metadata": {
  "kernelspec": {
   "display_name": "Python [conda env:base] *",
   "language": "python",
   "name": "conda-base-py"
  },
  "language_info": {
   "codemirror_mode": {
    "name": "ipython",
    "version": 3
   },
   "file_extension": ".py",
   "mimetype": "text/x-python",
   "name": "python",
   "nbconvert_exporter": "python",
   "pygments_lexer": "ipython3",
   "version": "3.12.7"
  }
 },
 "nbformat": 4,
 "nbformat_minor": 5
}
