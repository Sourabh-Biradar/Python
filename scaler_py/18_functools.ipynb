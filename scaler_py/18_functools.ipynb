{
 "cells": [
  {
   "cell_type": "code",
   "execution_count": 1,
   "id": "90d8fea1-6159-4fb8-84f0-3f1c86627d28",
   "metadata": {},
   "outputs": [],
   "source": [
    "# function tools : functools\n",
    "\n",
    "# filter() , map() , reduce()"
   ]
  },
  {
   "cell_type": "code",
   "execution_count": 3,
   "id": "0fea5f6b-fee6-4bd1-8dbd-c8825a470318",
   "metadata": {},
   "outputs": [
    {
     "name": "stdout",
     "output_type": "stream",
     "text": [
      "2 is even\n",
      "4 is even\n",
      "6 is even\n"
     ]
    }
   ],
   "source": [
    "# filter() : Select items by condition\n",
    "\n",
    "# syntax : list(filter(fn, sequence))\n",
    "\n",
    "def even(x):\n",
    "    if x%2 == 0:\n",
    "        print(f'{x} is even')\n",
    "\n",
    "l = [1,2,3,4,5,6]\n",
    "\n",
    "a = list(filter(even,l))                     "
   ]
  },
  {
   "cell_type": "code",
   "execution_count": 5,
   "id": "bfacbad7-7f08-4e68-9351-2de1b713ad4c",
   "metadata": {},
   "outputs": [
    {
     "name": "stdout",
     "output_type": "stream",
     "text": [
      "1\n",
      "4\n",
      "9\n",
      "16\n",
      "25\n",
      "36\n"
     ]
    }
   ],
   "source": [
    "# map() : Apply function to all items\n",
    "\n",
    "# syntax : list(map(fn,sequence))\n",
    "\n",
    "def sq(x):\n",
    "    print(x**2)\n",
    "\n",
    "l = [1,2,3,4,5,6]\n",
    "\n",
    "b = list(map(sq,l))"
   ]
  },
  {
   "cell_type": "code",
   "execution_count": 17,
   "id": "1d302189-bf5e-4fc4-b1a5-8fae476997ed",
   "metadata": {},
   "outputs": [
    {
     "name": "stdout",
     "output_type": "stream",
     "text": [
      "720\n"
     ]
    }
   ],
   "source": [
    "# reduce() : reduces to one result\n",
    "\n",
    "# syntax : reduce(fn,sequence)\n",
    "\n",
    "from functools import reduce\n",
    "\n",
    "def multiply(x,y):\n",
    "    return(x*y)\n",
    "\n",
    "l = [1,2,3,4,5,6]\n",
    "\n",
    "c = reduce(multiply,l)\n",
    "print(c)"
   ]
  }
 ],
 "metadata": {
  "kernelspec": {
   "display_name": "Python [conda env:base] *",
   "language": "python",
   "name": "conda-base-py"
  },
  "language_info": {
   "codemirror_mode": {
    "name": "ipython",
    "version": 3
   },
   "file_extension": ".py",
   "mimetype": "text/x-python",
   "name": "python",
   "nbconvert_exporter": "python",
   "pygments_lexer": "ipython3",
   "version": "3.12.7"
  }
 },
 "nbformat": 4,
 "nbformat_minor": 5
}
