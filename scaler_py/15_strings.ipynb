{
 "cells": [
  {
   "cell_type": "code",
   "execution_count": null,
   "id": "5fb784e9-07c2-46e1-b531-85490236e32d",
   "metadata": {},
   "outputs": [],
   "source": [
    "# strings \n",
    "\n",
    "s = 'Hey'\n",
    "\n",
    "s[2]       # y\n",
    "\n",
    "s[3]       # IndexError \n",
    "\n",
    "s[1.5]     # TypeError\n",
    "\n",
    "s[0]= \"B\"  # TypeError : str are immutable"
   ]
  },
  {
   "cell_type": "code",
   "execution_count": 4,
   "id": "c00793cd-3746-46e5-89c8-23fa88763e65",
   "metadata": {},
   "outputs": [],
   "source": [
    "del s      # deletes 's'"
   ]
  },
  {
   "cell_type": "code",
   "execution_count": 18,
   "id": "28393884-69a2-4dd4-9ab7-681bf79fccdf",
   "metadata": {},
   "outputs": [
    {
     "name": "stdout",
     "output_type": "stream",
     "text": [
      "Abc DbcXyz\n",
      "ABC DBC\n",
      "abc dbc\n",
      "0\n",
      "Mbc Dbc\n",
      "['Abc', 'Dbc']\n",
      "A-b-c- -D-b-c\n"
     ]
    }
   ],
   "source": [
    "# string methods\n",
    "\n",
    "s1 = 'Abc Dbc'\n",
    "s2 = 'Xyz'\n",
    "\n",
    "print (s1+s2)   # concat\n",
    "\n",
    "print(s1.upper()) # all upper case\n",
    "\n",
    "print(s1.lower()) # all lower case\n",
    "\n",
    "print(s1.find('A')) # True if present\n",
    "\n",
    "print(s1.replace('A','M')) # s1 is NOT changed bt returns new string\n",
    "\n",
    "print(s1.split()) # slpits str into list\n",
    "\n",
    "print('-'.join(s1)) # joins s1 with -"
   ]
  }
 ],
 "metadata": {
  "kernelspec": {
   "display_name": "Python [conda env:base] *",
   "language": "python",
   "name": "conda-base-py"
  },
  "language_info": {
   "codemirror_mode": {
    "name": "ipython",
    "version": 3
   },
   "file_extension": ".py",
   "mimetype": "text/x-python",
   "name": "python",
   "nbconvert_exporter": "python",
   "pygments_lexer": "ipython3",
   "version": "3.12.7"
  }
 },
 "nbformat": 4,
 "nbformat_minor": 5
}
