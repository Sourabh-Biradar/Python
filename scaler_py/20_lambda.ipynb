{
 "cells": [
  {
   "cell_type": "code",
   "execution_count": 15,
   "id": "2e94fa3b-2207-4a52-9251-a03bcc5bc2f2",
   "metadata": {},
   "outputs": [
    {
     "name": "stdout",
     "output_type": "stream",
     "text": [
      "lambda\n"
     ]
    }
   ],
   "source": [
    "# lambda : anonymus functions\n",
    "\n",
    "fn = lambda : print(\"lambda\")\n",
    "\n",
    "fn()"
   ]
  },
  {
   "cell_type": "code",
   "execution_count": 19,
   "id": "65892d19-00cb-44f2-be38-56aa061c923f",
   "metadata": {},
   "outputs": [
    {
     "name": "stdout",
     "output_type": "stream",
     "text": [
      "7\n"
     ]
    }
   ],
   "source": [
    "# with param & arg\n",
    "\n",
    "fn = lambda x,y : print(x+y)\n",
    "\n",
    "fn(3,4)"
   ]
  },
  {
   "cell_type": "code",
   "execution_count": null,
   "id": "911e9096-354c-4d98-86ac-2c03e27b6689",
   "metadata": {},
   "outputs": [],
   "source": [
    "# we can use lambda functions with filter() , reduce() & map()"
   ]
  }
 ],
 "metadata": {
  "kernelspec": {
   "display_name": "Python [conda env:base] *",
   "language": "python",
   "name": "conda-base-py"
  },
  "language_info": {
   "codemirror_mode": {
    "name": "ipython",
    "version": 3
   },
   "file_extension": ".py",
   "mimetype": "text/x-python",
   "name": "python",
   "nbconvert_exporter": "python",
   "pygments_lexer": "ipython3",
   "version": "3.12.7"
  }
 },
 "nbformat": 4,
 "nbformat_minor": 5
}
