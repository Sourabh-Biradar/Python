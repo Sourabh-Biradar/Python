{
 "cells": [
  {
   "cell_type": "code",
   "execution_count": 5,
   "id": "c4efcc23-e265-4ea3-ba13-e670d0ab8d96",
   "metadata": {},
   "outputs": [
    {
     "name": "stdout",
     "output_type": "stream",
     "text": [
      "{'a', 1, 44}\n",
      "<class 'set'>\n"
     ]
    }
   ],
   "source": [
    "# set : {}\n",
    "\n",
    "s = { 1,'a',44,1,'a'}\n",
    "\n",
    "print(s)                 # no dupicaltes\n",
    "\n",
    "print(type(s))"
   ]
  },
  {
   "cell_type": "code",
   "execution_count": 9,
   "id": "0a8d3d9d-7ffa-437a-bdc3-64b6c94e4e4b",
   "metadata": {},
   "outputs": [
    {
     "name": "stdout",
     "output_type": "stream",
     "text": [
      "<class 'dict'>\n",
      "<class 'set'>\n"
     ]
    }
   ],
   "source": [
    "s = {}         # empty dict\n",
    "s1 = set({})   # empty set\n",
    "\n",
    "print(type(s))\n",
    "print(type(s1))"
   ]
  },
  {
   "cell_type": "code",
   "execution_count": 13,
   "id": "e802a9b8-4d02-49b2-90a6-79502fc5eca3",
   "metadata": {},
   "outputs": [],
   "source": [
    "s = {2,3,4}\n",
    "s[0]           # TypeError ; no indexing coz thy are UNORDERED"
   ]
  },
  {
   "cell_type": "code",
   "execution_count": 15,
   "id": "affe1559-3f0a-468b-9426-08296251aba1",
   "metadata": {},
   "outputs": [
    {
     "data": {
      "text/plain": [
       "{2, 3, 4, 'z'}"
      ]
     },
     "execution_count": 15,
     "metadata": {},
     "output_type": "execute_result"
    }
   ],
   "source": [
    "s.add('z')\n",
    "s"
   ]
  },
  {
   "cell_type": "code",
   "execution_count": 19,
   "id": "9f990d24-d28c-4412-afcd-2bb5ae17e76f",
   "metadata": {},
   "outputs": [
    {
     "name": "stdout",
     "output_type": "stream",
     "text": [
      "{'A', 2, 3, 4, 'l', 7, 8, 9, 'm', 'z'}\n",
      "{'A', 2, 3, 4, 'l', 7, 8, 9, 'm', 'z'}\n",
      "{'A', 2, 3, 4, 'l', 7, 8, 9, 'm', 'z'}\n"
     ]
    }
   ],
   "source": [
    "# updating\n",
    "\n",
    "s.update('A')\n",
    "print(s)\n",
    "\n",
    "s.update([9,8,7])   # unpacks and adds items\n",
    "print(s)\n",
    "\n",
    "s.update({'l','m'}) # unpacks and adds items\n",
    "print(s)"
   ]
  },
  {
   "cell_type": "code",
   "execution_count": 21,
   "id": "f2c268ed-da70-419d-85b8-6e5f902a0d6f",
   "metadata": {},
   "outputs": [
    {
     "name": "stdout",
     "output_type": "stream",
     "text": [
      "set()\n"
     ]
    }
   ],
   "source": [
    "# discard , remove , pop , clear\n",
    "\n",
    "s.pop()             # any random item\n",
    "\n",
    "s.discard('m')      # removes m\n",
    "\n",
    "s.remove('l')       # removes l \n",
    "\n",
    "# when item not found while removing 'remove()' throws KeyError while 'discard()' doesnt\n",
    "\n",
    "s.clear()          # empty set\n",
    "print(s)"
   ]
  },
  {
   "cell_type": "code",
   "execution_count": 25,
   "id": "f374934c-d4f4-4cec-a50d-d49f83221ef1",
   "metadata": {},
   "outputs": [
    {
     "name": "stdout",
     "output_type": "stream",
     "text": [
      "{'e', 'd', 'b', 'f', 'a', 'c'}\n",
      "{'e', 'd', 'b', 'f', 'a', 'c'}\n"
     ]
    }
   ],
   "source": [
    "# union , intersection , difference , symmetric_difference\n",
    "\n",
    "s1 = {'a','b','c','d'}\n",
    "s2 = {'c','d','e','f'}\n",
    "\n",
    "print(s1|s2)\n",
    "print(s1.union(s2))       # all items "
   ]
  },
  {
   "cell_type": "code",
   "execution_count": 27,
   "id": "5edc8863-099f-4b1a-983f-9a06392adceb",
   "metadata": {},
   "outputs": [
    {
     "name": "stdout",
     "output_type": "stream",
     "text": [
      "{'c', 'd'}\n",
      "{'c', 'd'}\n"
     ]
    }
   ],
   "source": [
    "print(s1&s2)\n",
    "print(s1.intersection(s2)) # common items"
   ]
  },
  {
   "cell_type": "code",
   "execution_count": 31,
   "id": "2e84a6d4-a153-4f72-b243-509d9a923569",
   "metadata": {},
   "outputs": [
    {
     "name": "stdout",
     "output_type": "stream",
     "text": [
      "{'a', 'b'}\n",
      "{'a', 'b'}\n"
     ]
    }
   ],
   "source": [
    "print(s1-s2)\n",
    "print(s1.difference(s2))       # s1 except common items"
   ]
  },
  {
   "cell_type": "code",
   "execution_count": 35,
   "id": "caeea60c-3232-468e-b9da-3b022600ec06",
   "metadata": {},
   "outputs": [
    {
     "name": "stdout",
     "output_type": "stream",
     "text": [
      "{'e', 'b', 'f', 'a'}\n",
      "{'e', 'b', 'f', 'a'}\n"
     ]
    }
   ],
   "source": [
    "print(s1^s2)\n",
    "print(s1.symmetric_difference(s2))    # all items minus common items "
   ]
  }
 ],
 "metadata": {
  "kernelspec": {
   "display_name": "Python [conda env:base] *",
   "language": "python",
   "name": "conda-base-py"
  },
  "language_info": {
   "codemirror_mode": {
    "name": "ipython",
    "version": 3
   },
   "file_extension": ".py",
   "mimetype": "text/x-python",
   "name": "python",
   "nbconvert_exporter": "python",
   "pygments_lexer": "ipython3",
   "version": "3.12.7"
  }
 },
 "nbformat": 4,
 "nbformat_minor": 5
}
