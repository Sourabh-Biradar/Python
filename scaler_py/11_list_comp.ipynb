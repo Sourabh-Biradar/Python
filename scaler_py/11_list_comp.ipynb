{
 "cells": [
  {
   "cell_type": "code",
   "execution_count": 4,
   "id": "592798ce-51f1-4ca8-b8a3-9afd275760cc",
   "metadata": {},
   "outputs": [
    {
     "name": "stdout",
     "output_type": "stream",
     "text": [
      "[0, 1, 4, 9, 16]\n"
     ]
    }
   ],
   "source": [
    "# list comperhension\n",
    "\n",
    "# syntax : [expression for i in sequence]\n",
    "\n",
    "sq = [i**2 for i in range(5)]\n",
    "print(sq)"
   ]
  },
  {
   "cell_type": "code",
   "execution_count": 6,
   "id": "4e2748f0-f7d2-4e23-9012-7c76434b2b66",
   "metadata": {},
   "outputs": [
    {
     "name": "stdout",
     "output_type": "stream",
     "text": [
      "[4, 16, 4]\n"
     ]
    }
   ],
   "source": [
    "# syntax : [exp for i in sequence if condition ]\n",
    "\n",
    "l = [2 , 4, 5,9,-2]\n",
    "\n",
    "sq = [i**2 for i in l if i%2==0 ]\n",
    "print(sq)"
   ]
  }
 ],
 "metadata": {
  "kernelspec": {
   "display_name": "Python [conda env:base] *",
   "language": "python",
   "name": "conda-base-py"
  },
  "language_info": {
   "codemirror_mode": {
    "name": "ipython",
    "version": 3
   },
   "file_extension": ".py",
   "mimetype": "text/x-python",
   "name": "python",
   "nbconvert_exporter": "python",
   "pygments_lexer": "ipython3",
   "version": "3.12.7"
  }
 },
 "nbformat": 4,
 "nbformat_minor": 5
}
