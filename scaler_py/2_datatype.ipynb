{
 "cells": [
  {
   "cell_type": "code",
   "execution_count": 25,
   "id": "56ea879e-3b25-49a5-92e2-ea003a213896",
   "metadata": {},
   "outputs": [],
   "source": [
    "# Data Types : primitive & non-primitive\n",
    "\n",
    "# primitive : int , float , bool , complex , str\n",
    "\n",
    "# type( var ) : checks datatype of variable\n",
    "\n",
    "# isinstance( var , dt ) : checks if varibale is of specific datatype\n",
    "\n",
    "# (var.real) & (var.imag) give real & imaginary part of complex number"
   ]
  },
  {
   "cell_type": "code",
   "execution_count": 8,
   "id": "d9003d58-6838-4439-88b6-d546214b5cce",
   "metadata": {},
   "outputs": [
    {
     "data": {
      "text/plain": [
       "complex"
      ]
     },
     "execution_count": 8,
     "metadata": {},
     "output_type": "execute_result"
    }
   ],
   "source": [
    "a = 2      # whole number\n",
    "b = 2.09   # float : with decimal\n",
    "c = True   # bool : True or False\n",
    "d = 3+4j   # complex : real + img \n",
    "\n",
    "type(d) \n",
    "\n",
    "# type (var)"
   ]
  },
  {
   "cell_type": "code",
   "execution_count": 12,
   "id": "f85f0239-4d49-47f5-abb2-f5709006ac95",
   "metadata": {},
   "outputs": [
    {
     "data": {
      "text/plain": [
       "True"
      ]
     },
     "execution_count": 12,
     "metadata": {},
     "output_type": "execute_result"
    }
   ],
   "source": [
    "isinstance(b , float)\n",
    "\n",
    "# isinstance (var , dt)"
   ]
  },
  {
   "cell_type": "code",
   "execution_count": 16,
   "id": "d41a902b-07d7-4ded-abc6-6a9d49a55b04",
   "metadata": {},
   "outputs": [
    {
     "name": "stdout",
     "output_type": "stream",
     "text": [
      "5.0\n",
      "3.0\n"
     ]
    }
   ],
   "source": [
    "d = 5+3j           # complex \n",
    "\n",
    "print (d.real)     # real part of 'd'\n",
    "\n",
    "print (d.imag)     # imaginary part"
   ]
  },
  {
   "cell_type": "code",
   "execution_count": 20,
   "id": "77ba36f3-2501-46f0-b861-2f4545a11b56",
   "metadata": {},
   "outputs": [
    {
     "data": {
      "text/plain": [
       "str"
      ]
     },
     "execution_count": 20,
     "metadata": {},
     "output_type": "execute_result"
    }
   ],
   "source": [
    "# string (str) : sequence of UNICODE characters \n",
    "\n",
    "# within '' , \"\" \n",
    "\n",
    "x = 'a'\n",
    "y = \"A2\"\n",
    "z = 'a_2*B'\n",
    "f = \"Hello world\"\n",
    "\n",
    "type (z)      # x,y,z,f all str"
   ]
  },
  {
   "cell_type": "code",
   "execution_count": 22,
   "id": "e6ca99e0-c1c1-49e1-9e1e-113598ac3fb4",
   "metadata": {},
   "outputs": [
    {
     "name": "stdout",
     "output_type": "stream",
     "text": [
      " hello\n",
      "         world\n",
      "         its me \n"
     ]
    }
   ],
   "source": [
    "# multi-line string\n",
    "\n",
    "ms = ''' hello\n",
    "         world\n",
    "         its me '''\n",
    "print(ms)"
   ]
  }
 ],
 "metadata": {
  "kernelspec": {
   "display_name": "Python [conda env:base] *",
   "language": "python",
   "name": "conda-base-py"
  },
  "language_info": {
   "codemirror_mode": {
    "name": "ipython",
    "version": 3
   },
   "file_extension": ".py",
   "mimetype": "text/x-python",
   "name": "python",
   "nbconvert_exporter": "python",
   "pygments_lexer": "ipython3",
   "version": "3.12.7"
  }
 },
 "nbformat": 4,
 "nbformat_minor": 5
}
