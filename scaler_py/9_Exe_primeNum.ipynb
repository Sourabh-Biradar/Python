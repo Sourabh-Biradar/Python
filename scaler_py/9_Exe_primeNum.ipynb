{
 "cells": [
  {
   "cell_type": "code",
   "execution_count": 2,
   "id": "47d49e81-1f11-4a06-bf60-310d28cba790",
   "metadata": {},
   "outputs": [],
   "source": [
    "# exercise 1 : while loop , if-else\n",
    "\n",
    "# check if number is prime , if not get its divisors"
   ]
  },
  {
   "cell_type": "code",
   "execution_count": 12,
   "id": "20267d84-886f-44f3-899e-7ebf549ba589",
   "metadata": {},
   "outputs": [
    {
     "name": "stdin",
     "output_type": "stream",
     "text": [
      "Enter a number : 9\n"
     ]
    },
    {
     "name": "stdout",
     "output_type": "stream",
     "text": [
      "9 is divisible by 3\n",
      "9 is not prime number\n"
     ]
    }
   ],
   "source": [
    "num = int(input('Enter a number :'))\n",
    "\n",
    "\n",
    "isDivisible = False                            # pre-set to false\n",
    "i=2\n",
    "\n",
    "while i < num:\n",
    "    if num % i == 0:\n",
    "       isDivisible = True                      # if num is divisible by i\n",
    "       print(f'{num} is divisible by {i}')     # prints num & divisor\n",
    "    i +=1                                      # i is incremented\n",
    "\n",
    "\n",
    "if isDivisible:                                \n",
    "        print(f'{num} is not prime number')\n",
    "else:\n",
    "        print(f'{num} is prime number')"
   ]
  }
 ],
 "metadata": {
  "kernelspec": {
   "display_name": "Python [conda env:base] *",
   "language": "python",
   "name": "conda-base-py"
  },
  "language_info": {
   "codemirror_mode": {
    "name": "ipython",
    "version": 3
   },
   "file_extension": ".py",
   "mimetype": "text/x-python",
   "name": "python",
   "nbconvert_exporter": "python",
   "pygments_lexer": "ipython3",
   "version": "3.12.7"
  }
 },
 "nbformat": 4,
 "nbformat_minor": 5
}
