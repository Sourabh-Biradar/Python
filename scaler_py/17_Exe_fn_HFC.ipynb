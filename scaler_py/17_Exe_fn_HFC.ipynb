{
 "cells": [
  {
   "cell_type": "code",
   "execution_count": 14,
   "id": "46892638-d221-4edb-8609-bd85c1eccb85",
   "metadata": {},
   "outputs": [],
   "source": [
    "# Exercise 2 : Functions ; HCF\n",
    "\n",
    "def hcf(x,y):\n",
    "    \n",
    "    smaller = x if x<y else y     # hcf of smaller will hcf of both\n",
    "\n",
    "    _hcf = 1                           # initializing hfc to 1\n",
    "\n",
    "    for i in range(1,smaller+1):      \n",
    "        if x%i==0 and y%i==0:         # if are divisible by i thn only its hfc\n",
    "            _hcf = i\n",
    "            \n",
    "    return _hcf"
   ]
  },
  {
   "cell_type": "code",
   "execution_count": 20,
   "id": "057956cf-f808-485f-bbcc-79a0621b2dd4",
   "metadata": {},
   "outputs": [
    {
     "name": "stdout",
     "output_type": "stream",
     "text": [
      "27\n"
     ]
    }
   ],
   "source": [
    "res = hcf(81,54)\n",
    "print(res)"
   ]
  },
  {
   "cell_type": "code",
   "execution_count": 28,
   "id": "a15df3d4-5f67-46fb-a56d-76f27fc6f94e",
   "metadata": {},
   "outputs": [
    {
     "data": {
      "text/plain": [
       "27"
      ]
     },
     "execution_count": 28,
     "metadata": {},
     "output_type": "execute_result"
    }
   ],
   "source": [
    "# using Euclidean Algo\n",
    "\n",
    "def hcf(x,y):\n",
    "    while y:              # repeats until y=0 ; as 0 = False\n",
    "        x,y = y,x%y       # x = y & y = reminder of x/y\n",
    "    return x\n",
    "\n",
    "hcf(54,81)"
   ]
  }
 ],
 "metadata": {
  "kernelspec": {
   "display_name": "Python [conda env:base] *",
   "language": "python",
   "name": "conda-base-py"
  },
  "language_info": {
   "codemirror_mode": {
    "name": "ipython",
    "version": 3
   },
   "file_extension": ".py",
   "mimetype": "text/x-python",
   "name": "python",
   "nbconvert_exporter": "python",
   "pygments_lexer": "ipython3",
   "version": "3.12.7"
  }
 },
 "nbformat": 4,
 "nbformat_minor": 5
}
