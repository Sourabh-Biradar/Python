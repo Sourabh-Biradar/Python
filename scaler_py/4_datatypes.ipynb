{
 "cells": [
  {
   "cell_type": "code",
   "execution_count": 28,
   "id": "79d0fd20-4985-4b19-a24a-4427e779d10b",
   "metadata": {},
   "outputs": [],
   "source": [
    "# data types : primitive & non-primitive\n",
    "\n",
    "# non-primitive : list , tuple , set , dict"
   ]
  },
  {
   "cell_type": "code",
   "execution_count": 30,
   "id": "2bd28e95-7687-427f-ad38-74290858db0b",
   "metadata": {},
   "outputs": [
    {
     "data": {
      "text/plain": [
       "list"
      ]
     },
     "execution_count": 30,
     "metadata": {},
     "output_type": "execute_result"
    }
   ],
   "source": [
    "# list : ordered collection of items , its mutable\n",
    "# in sq brackets : [ ]\n",
    "\n",
    "l = []   # declaring list (empty list)\n",
    "\n",
    "type(l)"
   ]
  },
  {
   "cell_type": "code",
   "execution_count": 36,
   "id": "7182f6b2-d095-4f97-acdc-2556bb92550d",
   "metadata": {},
   "outputs": [
    {
     "name": "stdout",
     "output_type": "stream",
     "text": [
      "[3, 4.1, True, 'axe']\n",
      "4.1\n"
     ]
    }
   ],
   "source": [
    "l = [3,4.1,True,'axe']\n",
    "\n",
    "print(l)\n",
    "print(l[1])\n",
    "\n",
    "# items of any datatype"
   ]
  },
  {
   "cell_type": "code",
   "execution_count": 40,
   "id": "3e52a8aa-8480-4910-aa9a-c8a6bd04f34f",
   "metadata": {},
   "outputs": [
    {
     "name": "stdout",
     "output_type": "stream",
     "text": [
      "5.55\n"
     ]
    }
   ],
   "source": [
    "l[1] = 5.55 # updating/modifying\n",
    "\n",
    "print(l[1])\n",
    "\n",
    "# since its mutable"
   ]
  },
  {
   "cell_type": "code",
   "execution_count": 44,
   "id": "7f25dae4-2349-4864-a62b-ae12b11174fb",
   "metadata": {},
   "outputs": [
    {
     "data": {
      "text/plain": [
       "tuple"
      ]
     },
     "execution_count": 44,
     "metadata": {},
     "output_type": "execute_result"
    }
   ],
   "source": [
    "# tuple : ordered collection of items but immutable\n",
    "# in round brackets : ( )\n",
    "\n",
    "t = ()\n",
    "type(t)"
   ]
  },
  {
   "cell_type": "code",
   "execution_count": 50,
   "id": "e747de12-84b4-4ac7-b2fa-f914455feb8e",
   "metadata": {},
   "outputs": [
    {
     "name": "stdout",
     "output_type": "stream",
     "text": [
      "('e', 4, 7.5)\n",
      "7.5\n"
     ]
    }
   ],
   "source": [
    "tup = ('e' , 4 ,7.5)\n",
    "\n",
    "print(tup)\n",
    "print(tup[2])"
   ]
  },
  {
   "cell_type": "code",
   "execution_count": 54,
   "id": "ad9c805c-680f-4ecc-acd3-2fe122bf2db3",
   "metadata": {},
   "outputs": [],
   "source": [
    "tup[2] = 9.9\n",
    "\n",
    "# TypeError , since tuple is IMMUTABLE"
   ]
  },
  {
   "cell_type": "code",
   "execution_count": 74,
   "id": "8cfe99da-6645-4fd6-b698-40d6f8ee3642",
   "metadata": {},
   "outputs": [
    {
     "name": "stdout",
     "output_type": "stream",
     "text": [
      "s : {3, 4, 5, 6, 'seven'} <class 'set'>\n",
      "s1 : {'six', 4, 5} <class 'set'>\n"
     ]
    }
   ],
   "source": [
    "# set : unordered collection of UNIQUE items (no duplicates)\n",
    "\n",
    "s = {3,4,5,6,\"seven\"}\n",
    "\n",
    "print(\"s :\",s,type(s)) \n",
    "\n",
    "s1 = {4,5,'six',4}\n",
    "\n",
    "print(\"s1 :\",s1,type(s1))\n",
    "\n",
    "# duplicate 4 is removed "
   ]
  },
  {
   "cell_type": "code",
   "execution_count": 85,
   "id": "6d29b7d2-b89e-459c-b3e9-4e74a120c267",
   "metadata": {},
   "outputs": [],
   "source": [
    "s1[0]\n",
    "\n",
    "# TypeError , since its UNORDERED , no indexing"
   ]
  },
  {
   "cell_type": "code",
   "execution_count": 89,
   "id": "0fa36eb2-8b23-4c8b-b73e-8ba45df18ee6",
   "metadata": {},
   "outputs": [
    {
     "data": {
      "text/plain": [
       "dict"
      ]
     },
     "execution_count": 89,
     "metadata": {},
     "output_type": "execute_result"
    }
   ],
   "source": [
    "# dictionary ( dict ) : unordered collection of key-value pairs\n",
    "\n",
    "d = {}  \n",
    "\n",
    "type(d)   # empty dict"
   ]
  },
  {
   "cell_type": "code",
   "execution_count": 97,
   "id": "0eefd2ff-8520-4507-a42d-f96dfff3cff9",
   "metadata": {},
   "outputs": [
    {
     "name": "stdout",
     "output_type": "stream",
     "text": [
      "{1: 'one', 2: 'two', 3: 'three'}\n"
     ]
    }
   ],
   "source": [
    "d = {1:\"one\",2:'two',3:'three'}\n",
    "print(d)"
   ]
  },
  {
   "cell_type": "code",
   "execution_count": 110,
   "id": "68140490-ef0c-4551-b36c-1201e3b38447",
   "metadata": {},
   "outputs": [
    {
     "data": {
      "text/plain": [
       "'two'"
      ]
     },
     "execution_count": 110,
     "metadata": {},
     "output_type": "execute_result"
    }
   ],
   "source": [
    "d[2]\n",
    "# d [key] , use key to get value\n",
    "\n",
    "d[4]\n",
    "# KeyError , since thrs no key=4"
   ]
  },
  {
   "cell_type": "code",
   "execution_count": null,
   "id": "7b3dd41c-c4c2-4ab7-b51c-b26376facdaf",
   "metadata": {},
   "outputs": [],
   "source": []
  }
 ],
 "metadata": {
  "kernelspec": {
   "display_name": "Python [conda env:base] *",
   "language": "python",
   "name": "conda-base-py"
  },
  "language_info": {
   "codemirror_mode": {
    "name": "ipython",
    "version": 3
   },
   "file_extension": ".py",
   "mimetype": "text/x-python",
   "name": "python",
   "nbconvert_exporter": "python",
   "pygments_lexer": "ipython3",
   "version": "3.12.7"
  }
 },
 "nbformat": 4,
 "nbformat_minor": 5
}
