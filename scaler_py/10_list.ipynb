{
 "cells": [
  {
   "cell_type": "code",
   "execution_count": 24,
   "id": "b8261a75-a0a9-4636-9ff4-4792cf89dd1e",
   "metadata": {},
   "outputs": [
    {
     "name": "stdout",
     "output_type": "stream",
     "text": [
      "5\n",
      "[1, 2, 'd', 4, 'e', 'f']\n",
      "[1, 2, 'D', 'd', 4, 'e', 'f']\n",
      "[1, 2, 'D', 'd', 4, 'e', 'f', ['x', 'y', 99]]\n",
      "['x', 'y', 99, 'm', 'n']\n",
      "['x', 'y', 99, 'm', 'n', 'm', 'n']\n",
      "['m', 'n', 'new']\n",
      "['m', 'n', 'new']\n"
     ]
    }
   ],
   "source": [
    "# list methods\n",
    "\n",
    "l = [1,2,'d',4,'e']\n",
    "\n",
    "print(len(l))           # length of list\n",
    "\n",
    "l.append('f')           # at last\n",
    "print(l)                \n",
    "\n",
    "l.insert(2,'D')         # insert(whr,what)\n",
    "print(l)\n",
    "\n",
    "l1 = ['x','y',99]\n",
    "l2 = ['m' , 'n']\n",
    "\n",
    "l.append(l1)            # [ l [l1] ]\n",
    "print(l)\n",
    "\n",
    "l1.extend(l2)            # [ l1 + l2 ]\n",
    "print(l1)\n",
    "\n",
    "print(l1+l2)             # same as above\n",
    "\n",
    "l3 = l2\n",
    "\n",
    "l3.append('new')\n",
    "print(l3)\n",
    "print(l2)                # affects l2 since l2 & l3 point to same list address"
   ]
  },
  {
   "cell_type": "code",
   "execution_count": 32,
   "id": "305ebd7b-4a9c-4f7e-9b5a-233ace2c986b",
   "metadata": {},
   "outputs": [
    {
     "name": "stdout",
     "output_type": "stream",
     "text": [
      "[1, 2, 4, 'e']\n",
      "[1, 2, 4]\n",
      "[1, 2]\n",
      "[2]\n"
     ]
    }
   ],
   "source": [
    "# del , remove, pop\n",
    "\n",
    "l = [1,2,'d',4,'e']\n",
    "\n",
    "l.remove('d')           # remove(what) ; if duplicate items deletes the first one\n",
    "print(l)\n",
    "\n",
    "del l[3]                # del l[index]\n",
    "print(l)\n",
    "\n",
    "l.pop()                 # by default last element\n",
    "print(l)\n",
    "\n",
    "l.pop(0)                # pop(index)\n",
    "print(l)"
   ]
  },
  {
   "cell_type": "code",
   "execution_count": 56,
   "id": "a154c2e6-40b5-443e-8b4f-758b326a93dc",
   "metadata": {},
   "outputs": [
    {
     "name": "stdout",
     "output_type": "stream",
     "text": [
      "2\n",
      "[-8, 6, 1, 9, -8, 6, 3]\n",
      "[-8, -8, 1, 3, 6, 6, 9]\n",
      "[-9, -2, 3, 4]\n",
      "[4, 3, -2, -9]\n"
     ]
    }
   ],
   "source": [
    "# count , reverse , sort, sorted\n",
    "\n",
    "l = [3,6,-8,9,1,6,-8]\n",
    "\n",
    "print(l.count(6))        # count(item) how many times\n",
    "\n",
    "l.reverse()              \n",
    "print(l)\n",
    "\n",
    "l.sort()                 # in ascending order          \n",
    "print(l)\n",
    "\n",
    "l1 = [4,3,-9,-2]\n",
    "\n",
    "l2 = sorted(l1)\n",
    "print(l2)                # sorted doesnt affect original list l1\n",
    "\n",
    "l2 = sorted(l1,reverse=True) # in desc order\n",
    "print(l2)"
   ]
  },
  {
   "cell_type": "code",
   "execution_count": 58,
   "id": "ae21ef7b-117b-4484-8847-39d86cf733d5",
   "metadata": {},
   "outputs": [
    {
     "name": "stdout",
     "output_type": "stream",
     "text": [
      "3\n",
      "12\n",
      "[3, 4, 5, 6, 7, 8, 9, 10, 11, 12]\n",
      "[3, 6, 9, 12]\n"
     ]
    }
   ],
   "source": [
    "# indexing & slicing\n",
    "\n",
    "l = [3,4,5,6,7,8,9,10,11,12]\n",
    "\n",
    "print(l[0])     # first item\n",
    "\n",
    "print(l[-1])    # last item\n",
    "\n",
    "print(l[:])     # l[start:end]\n",
    "\n",
    "print(l[::3])   # l[start:end:step]"
   ]
  }
 ],
 "metadata": {
  "kernelspec": {
   "display_name": "Python [conda env:base] *",
   "language": "python",
   "name": "conda-base-py"
  },
  "language_info": {
   "codemirror_mode": {
    "name": "ipython",
    "version": 3
   },
   "file_extension": ".py",
   "mimetype": "text/x-python",
   "name": "python",
   "nbconvert_exporter": "python",
   "pygments_lexer": "ipython3",
   "version": "3.12.7"
  }
 },
 "nbformat": 4,
 "nbformat_minor": 5
}
