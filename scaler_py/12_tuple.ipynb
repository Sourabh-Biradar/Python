{
 "cells": [
  {
   "cell_type": "code",
   "execution_count": 3,
   "id": "fba5acd9-6aa7-46f0-b934-b2e25e09bb91",
   "metadata": {},
   "outputs": [
    {
     "name": "stdout",
     "output_type": "stream",
     "text": [
      "<class 'str'>\n",
      "<class 'tuple'>\n"
     ]
    }
   ],
   "source": [
    "# tuple : immutable \n",
    "\n",
    "t = ('A')     # str\n",
    "t1 = ('A' ,)  # tuple\n",
    "\n",
    "print(type(t))\n",
    "print(type(t1))"
   ]
  },
  {
   "cell_type": "code",
   "execution_count": 5,
   "id": "2a7eb1a4-72c4-4735-abff-2c392e3f2137",
   "metadata": {},
   "outputs": [
    {
     "data": {
      "text/plain": [
       "tuple"
      ]
     },
     "execution_count": 5,
     "metadata": {},
     "output_type": "execute_result"
    }
   ],
   "source": [
    "t = 'A' , \n",
    "type(t)"
   ]
  },
  {
   "cell_type": "code",
   "execution_count": 9,
   "id": "64494d77-744a-4f35-a947-82e3805b0c5e",
   "metadata": {},
   "outputs": [
    {
     "data": {
      "text/plain": [
       "tuple"
      ]
     },
     "execution_count": 9,
     "metadata": {},
     "output_type": "execute_result"
    }
   ],
   "source": [
    "t2 = 'A' , 'b' , \"C\"\n",
    "type(t2)"
   ]
  },
  {
   "cell_type": "code",
   "execution_count": 13,
   "id": "f5b46ade-c2ec-413f-a4e5-774f4e242014",
   "metadata": {},
   "outputs": [
    {
     "name": "stdout",
     "output_type": "stream",
     "text": [
      "(1, 'a', ['x', 'Yee', 'z'])\n"
     ]
    }
   ],
   "source": [
    "# tuples are immutable\n",
    "\n",
    "t = (1,2,3)\n",
    "t[0] = 7        # TypeError\n",
    "\n",
    "# But we can change elements of list in tuple\n",
    "\n",
    "t1 = (1 , 'a' , ['x' , 'y' , 'z'])\n",
    "\n",
    "t1[1] = 'A'     # TypeError\n",
    "\n",
    "t1[2][1] = 'Yee'  # no error\n",
    "\n",
    "print(t1)"
   ]
  },
  {
   "cell_type": "code",
   "execution_count": 17,
   "id": "b2cc8d45-0a00-4703-91c5-7f672940ec5d",
   "metadata": {},
   "outputs": [
    {
     "data": {
      "text/plain": [
       "(1, 2, 3, 'A', 'b', 'C')"
      ]
     },
     "execution_count": 17,
     "metadata": {},
     "output_type": "execute_result"
    }
   ],
   "source": [
    "# concat \n",
    "\n",
    "t = (1,2,3) + ('A' , 'b' , \"C\")\n",
    "t"
   ]
  },
  {
   "cell_type": "code",
   "execution_count": 19,
   "id": "fc4118e0-7126-4b96-8afb-69533ed115af",
   "metadata": {},
   "outputs": [
    {
     "data": {
      "text/plain": [
       "('abc', 'abc', 'abc', 'abc', 'abc')"
      ]
     },
     "execution_count": 19,
     "metadata": {},
     "output_type": "execute_result"
    }
   ],
   "source": [
    "# repeating elements\n",
    "\n",
    "t = ('abc',) * 5\n",
    "t"
   ]
  },
  {
   "cell_type": "code",
   "execution_count": 21,
   "id": "74062306-1c32-4c28-8c44-f6a5e439fe45",
   "metadata": {},
   "outputs": [
    {
     "data": {
      "text/plain": [
       "5"
      ]
     },
     "execution_count": 21,
     "metadata": {},
     "output_type": "execute_result"
    }
   ],
   "source": [
    "t.count('abc')"
   ]
  },
  {
   "cell_type": "code",
   "execution_count": 27,
   "id": "e60da98b-d048-414b-bd1d-f1294ee1cc50",
   "metadata": {},
   "outputs": [
    {
     "data": {
      "text/plain": [
       "0"
      ]
     },
     "execution_count": 27,
     "metadata": {},
     "output_type": "execute_result"
    }
   ],
   "source": [
    "t.index('abc')   # first occurace\n"
   ]
  },
  {
   "cell_type": "code",
   "execution_count": 29,
   "id": "f5fed929-b998-4330-9c93-cec70d7a4454",
   "metadata": {},
   "outputs": [
    {
     "name": "stdout",
     "output_type": "stream",
     "text": [
      "True\n"
     ]
    }
   ],
   "source": [
    "print('abc' in t)"
   ]
  },
  {
   "cell_type": "code",
   "execution_count": 37,
   "id": "5c422d76-66e1-4b3f-b9a0-11aeadd972ac",
   "metadata": {},
   "outputs": [
    {
     "data": {
      "text/plain": [
       "['A', 'C', 'b']"
      ]
     },
     "execution_count": 37,
     "metadata": {},
     "output_type": "execute_result"
    }
   ],
   "source": [
    "new_t2 = sorted(t2)\n",
    "\n",
    "new_t2\n",
    "\n",
    "# t2.sort() not possible becoz u cant change tuple"
   ]
  }
 ],
 "metadata": {
  "kernelspec": {
   "display_name": "Python [conda env:base] *",
   "language": "python",
   "name": "conda-base-py"
  },
  "language_info": {
   "codemirror_mode": {
    "name": "ipython",
    "version": 3
   },
   "file_extension": ".py",
   "mimetype": "text/x-python",
   "name": "python",
   "nbconvert_exporter": "python",
   "pygments_lexer": "ipython3",
   "version": "3.12.7"
  }
 },
 "nbformat": 4,
 "nbformat_minor": 5
}
