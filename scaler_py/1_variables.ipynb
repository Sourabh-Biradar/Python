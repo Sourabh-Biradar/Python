{
 "cells": [
  {
   "cell_type": "code",
   "execution_count": 48,
   "id": "6fec189a-f112-4f28-ac2b-97f431c94f0d",
   "metadata": {},
   "outputs": [],
   "source": [
    "# variables : containers that store values\n",
    "\n",
    "# id() in-built func gives memory location"
   ]
  },
  {
   "cell_type": "code",
   "execution_count": 30,
   "id": "e2db8af7-8f28-494c-b18a-a369258e62fe",
   "metadata": {},
   "outputs": [],
   "source": [
    "a = 10\n",
    "\n",
    "b2 = 'Ten'\n",
    "\n",
    "c_11 = 10.1\n",
    "\n",
    "# a , b2 , c_11 : variables that store corresponding values in them"
   ]
  },
  {
   "cell_type": "code",
   "execution_count": 38,
   "id": "ae90ebfe-32bf-4436-8849-02efad813921",
   "metadata": {},
   "outputs": [],
   "source": [
    "x , y = 12 , \"Eight\"\n",
    "\n",
    "z = z1 = z2 = 10.01\n",
    "\n",
    "# multiple assignment"
   ]
  },
  {
   "cell_type": "code",
   "execution_count": 46,
   "id": "63ca05a1-77a2-4dfe-8f3a-eee0a404cf6b",
   "metadata": {},
   "outputs": [
    {
     "name": "stdout",
     "output_type": "stream",
     "text": [
      "4848807856 4848807856 4848807856\n"
     ]
    }
   ],
   "source": [
    "print(id(z) , id(z1) , id(z2))\n",
    "\n",
    "# id()"
   ]
  },
  {
   "cell_type": "code",
   "execution_count": 52,
   "id": "e96c4b74-9303-4636-871f-b6d8a3948afd",
   "metadata": {},
   "outputs": [
    {
     "name": "stdout",
     "output_type": "stream",
     "text": [
      "4336714680 4336714680\n"
     ]
    }
   ],
   "source": [
    "z2 = 12\n",
    "\n",
    "print(id(z2) , id(x))\n",
    "\n",
    "# 'z2' is reassigned with '12' hence, it has same location as 'x'"
   ]
  }
 ],
 "metadata": {
  "kernelspec": {
   "display_name": "Python [conda env:base] *",
   "language": "python",
   "name": "conda-base-py"
  },
  "language_info": {
   "codemirror_mode": {
    "name": "ipython",
    "version": 3
   },
   "file_extension": ".py",
   "mimetype": "text/x-python",
   "name": "python",
   "nbconvert_exporter": "python",
   "pygments_lexer": "ipython3",
   "version": "3.12.7"
  }
 },
 "nbformat": 4,
 "nbformat_minor": 5
}
