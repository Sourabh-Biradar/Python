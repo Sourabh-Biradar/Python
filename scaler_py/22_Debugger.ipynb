{
 "cells": [
  {
   "cell_type": "code",
   "execution_count": null,
   "id": "fbc4f988-cb85-430e-ae81-8590b428e13a",
   "metadata": {},
   "outputs": [
    {
     "name": "stdout",
     "output_type": "stream",
     "text": [
      "> \u001b[0;32m/var/folders/p_/zwqzwk3j2g1fzxcy41f6z0m80000gp/T/ipykernel_90668/3028771419.py\u001b[0m(10)\u001b[0;36mseq\u001b[0;34m()\u001b[0m\n",
      "\u001b[0;32m      8 \u001b[0;31m        \u001b[0mpdb\u001b[0m\u001b[0;34m.\u001b[0m\u001b[0mset_trace\u001b[0m\u001b[0;34m(\u001b[0m\u001b[0;34m)\u001b[0m          \u001b[0;31m# breakpoint : whn ever ths line is hit PDB opens\u001b[0m\u001b[0;34m\u001b[0m\u001b[0;34m\u001b[0m\u001b[0m\n",
      "\u001b[0m\u001b[0;32m      9 \u001b[0;31m\u001b[0;34m\u001b[0m\u001b[0m\n",
      "\u001b[0m\u001b[0;32m---> 10 \u001b[0;31m        \u001b[0mprint\u001b[0m\u001b[0;34m(\u001b[0m\u001b[0mi\u001b[0m\u001b[0;34m)\u001b[0m\u001b[0;34m\u001b[0m\u001b[0;34m\u001b[0m\u001b[0m\n",
      "\u001b[0m\u001b[0;32m     11 \u001b[0;31m\u001b[0;34m\u001b[0m\u001b[0m\n",
      "\u001b[0m\u001b[0;32m     12 \u001b[0;31m\u001b[0;34m\u001b[0m\u001b[0m\n",
      "\u001b[0m\n"
     ]
    }
   ],
   "source": [
    "# Python DeBugger : pdb\n",
    "\n",
    "import pdb\n",
    "\n",
    "def seq(n):\n",
    "    for i in range(n):\n",
    "        \n",
    "        pdb.set_trace()          # breakpoint : whn ever ths line is hit PDB opens\n",
    "\n",
    "        print(i)\n",
    "\n",
    "\n",
    "seq(5)\n",
    "\n",
    "\n",
    "# pdb cmds     : \n",
    "\n",
    "# list         : points whr are at code\n",
    "# h (help)     : lists all cmds\n",
    "# c (continue) : continue with code\n",
    "# p            : print\n",
    "# locals()     : lists local variables\n",
    "# globals()    : lists global variables\n",
    "# q            : quit pdb"
   ]
  }
 ],
 "metadata": {
  "kernelspec": {
   "display_name": "Python [conda env:base] *",
   "language": "python",
   "name": "conda-base-py"
  },
  "language_info": {
   "codemirror_mode": {
    "name": "ipython",
    "version": 3
   },
   "file_extension": ".py",
   "mimetype": "text/x-python",
   "name": "python",
   "nbconvert_exporter": "python",
   "pygments_lexer": "ipython3",
   "version": "3.12.7"
  }
 },
 "nbformat": 4,
 "nbformat_minor": 5
}
