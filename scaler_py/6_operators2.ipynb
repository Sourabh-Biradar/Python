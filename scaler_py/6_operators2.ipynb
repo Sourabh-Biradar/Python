{
 "cells": [
  {
   "cell_type": "code",
   "execution_count": 4,
   "id": "acabc7ad-a863-4aa3-9111-31e4db198ee4",
   "metadata": {},
   "outputs": [],
   "source": [
    "# operators \n",
    "\n",
    "# comparision : < , > , <= , >= , == , !=\n",
    "\n",
    "# logical : and , or , not\n",
    "\n",
    "# bitwise : & , | , ! , >> , <<\n",
    "\n",
    "# special : is , not is\n",
    "\n",
    "# membership : in , not in"
   ]
  },
  {
   "cell_type": "code",
   "execution_count": 8,
   "id": "e3bb03a3-a606-487c-aae6-1badac7c7aca",
   "metadata": {},
   "outputs": [
    {
     "name": "stdout",
     "output_type": "stream",
     "text": [
      "False\n",
      "True\n"
     ]
    }
   ],
   "source": [
    "# comparision : output in True/False\n",
    "\n",
    "a , b = 12 ,10\n",
    "\n",
    "print (a == b)    # a equal to b\n",
    "\n",
    "print (a != b)    # a NOT equal to b"
   ]
  },
  {
   "cell_type": "code",
   "execution_count": 12,
   "id": "db362931-e61e-4d06-9d1f-bbefbb6a7214",
   "metadata": {},
   "outputs": [],
   "source": [
    "# logical \n",
    "\n",
    "# and : both should be TRUE\n",
    "\n",
    "# or  : any one should be TRUE "
   ]
  },
  {
   "cell_type": "code",
   "execution_count": 24,
   "id": "0c4c6b07-30f7-43eb-9fd5-23818958dce4",
   "metadata": {},
   "outputs": [
    {
     "name": "stdout",
     "output_type": "stream",
     "text": [
      "True 4442362744 4442362744\n",
      "False 4955804640 4955803200\n",
      "False 4955922688 4955922880\n"
     ]
    }
   ],
   "source": [
    "# special : is , not is\n",
    "\n",
    "x = 10\n",
    "y = 10 \n",
    "m = 'm&n'\n",
    "n = 'm&n'\n",
    "\n",
    "l1 = [1,2,3]\n",
    "l2 = [1,2,3]\n",
    "\n",
    "print (x is y , id(x) , id(y))\n",
    "\n",
    "print (n is m , id(m) , id(n))\n",
    "\n",
    "print (l1 is l2 , id(l1) , id(l2))"
   ]
  },
  {
   "cell_type": "code",
   "execution_count": 26,
   "id": "479df844-87a8-46f5-a1cd-6b3961f96898",
   "metadata": {},
   "outputs": [
    {
     "name": "stdout",
     "output_type": "stream",
     "text": [
      "True\n",
      "True\n"
     ]
    }
   ],
   "source": [
    "# membership : in , not in\n",
    "\n",
    "l = [1,2,3,4]\n",
    "d = {'a' : 'apple' , 'b' : 'bad'}\n",
    "\n",
    "print (1 in l)    # checks if value:1 is IN l\n",
    "\n",
    "print ( 'a' in d)  # checks if key:'a' is IN d ; only key"
   ]
  }
 ],
 "metadata": {
  "kernelspec": {
   "display_name": "Python [conda env:base] *",
   "language": "python",
   "name": "conda-base-py"
  },
  "language_info": {
   "codemirror_mode": {
    "name": "ipython",
    "version": 3
   },
   "file_extension": ".py",
   "mimetype": "text/x-python",
   "name": "python",
   "nbconvert_exporter": "python",
   "pygments_lexer": "ipython3",
   "version": "3.12.7"
  }
 },
 "nbformat": 4,
 "nbformat_minor": 5
}
