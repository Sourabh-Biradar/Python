{
 "cells": [
  {
   "cell_type": "code",
   "execution_count": 7,
   "id": "13e496c9-ab7f-4780-a156-1efde66e974d",
   "metadata": {},
   "outputs": [],
   "source": [
    "# string indexing & slicing"
   ]
  },
  {
   "cell_type": "code",
   "execution_count": 27,
   "id": "ea93c454-fb45-44e5-8066-d273b6feadfd",
   "metadata": {},
   "outputs": [
    {
     "data": {
      "text/plain": [
       "'P'"
      ]
     },
     "execution_count": 27,
     "metadata": {},
     "output_type": "execute_result"
    }
   ],
   "source": [
    "s = 'Python is easy to learn'\n",
    "\n",
    "s[0]   \n",
    "\n",
    "# indexing starts from zero"
   ]
  },
  {
   "cell_type": "code",
   "execution_count": 17,
   "id": "345f4477-0f4e-4cde-8425-8ff86f50a31e",
   "metadata": {},
   "outputs": [
    {
     "data": {
      "text/plain": [
       "'n'"
      ]
     },
     "execution_count": 17,
     "metadata": {},
     "output_type": "execute_result"
    }
   ],
   "source": [
    "s[len(s) - 1]\n",
    "\n",
    "# last character"
   ]
  },
  {
   "cell_type": "code",
   "execution_count": 25,
   "id": "6c6a621f-b4fa-4175-96d4-8a98db2c7efd",
   "metadata": {},
   "outputs": [
    {
     "data": {
      "text/plain": [
       "'l'"
      ]
     },
     "execution_count": 25,
     "metadata": {},
     "output_type": "execute_result"
    }
   ],
   "source": [
    "s[-5]\n",
    "\n",
    "# negative indexing : last character 'n' at index -1 "
   ]
  },
  {
   "cell_type": "code",
   "execution_count": 33,
   "id": "c9a80d27-e132-459f-b36d-7f1ad41c010c",
   "metadata": {},
   "outputs": [
    {
     "data": {
      "text/plain": [
       "'is easy to learn'"
      ]
     },
     "execution_count": 33,
     "metadata": {},
     "output_type": "execute_result"
    }
   ],
   "source": [
    "s[7: ]\n",
    "\n",
    "# slicing s[7] till last"
   ]
  },
  {
   "cell_type": "code",
   "execution_count": 39,
   "id": "979a6796-5c3d-43e8-9cbf-a79163a32247",
   "metadata": {},
   "outputs": [
    {
     "data": {
      "text/plain": [
       "'is easy'"
      ]
     },
     "execution_count": 39,
     "metadata": {},
     "output_type": "execute_result"
    }
   ],
   "source": [
    "s[7:14]\n",
    "\n",
    "# s[7] to s[13] \n",
    "\n",
    "# note : NOT till s[14]"
   ]
  },
  {
   "cell_type": "code",
   "execution_count": 43,
   "id": "ce00c936-8a53-4e6b-8d7f-10d8a72cfcc1",
   "metadata": {},
   "outputs": [
    {
     "data": {
      "text/plain": [
       "'Python is easy to learn'"
      ]
     },
     "execution_count": 43,
     "metadata": {},
     "output_type": "execute_result"
    }
   ],
   "source": [
    "s[:]\n",
    "\n",
    "# from s[0] to s[-1]"
   ]
  },
  {
   "cell_type": "code",
   "execution_count": 47,
   "id": "d9af8f3a-6467-4d55-ac37-7e32d773e0fc",
   "metadata": {},
   "outputs": [
    {
     "data": {
      "text/plain": [
       "'Python is easy'"
      ]
     },
     "execution_count": 47,
     "metadata": {},
     "output_type": "execute_result"
    }
   ],
   "source": [
    "s[:14]\n",
    "\n",
    "# from s[0] to s[13]"
   ]
  },
  {
   "cell_type": "code",
   "execution_count": 51,
   "id": "67e58f91-07d2-40e8-830e-0564ad3965b8",
   "metadata": {},
   "outputs": [
    {
     "data": {
      "text/plain": [
       "'lear'"
      ]
     },
     "execution_count": 51,
     "metadata": {},
     "output_type": "execute_result"
    }
   ],
   "source": [
    "s[-5:-1]\n",
    "\n",
    "# from s[-5] to s[-2]"
   ]
  }
 ],
 "metadata": {
  "kernelspec": {
   "display_name": "Python [conda env:base] *",
   "language": "python",
   "name": "conda-base-py"
  },
  "language_info": {
   "codemirror_mode": {
    "name": "ipython",
    "version": 3
   },
   "file_extension": ".py",
   "mimetype": "text/x-python",
   "name": "python",
   "nbconvert_exporter": "python",
   "pygments_lexer": "ipython3",
   "version": "3.12.7"
  }
 },
 "nbformat": 4,
 "nbformat_minor": 5
}
