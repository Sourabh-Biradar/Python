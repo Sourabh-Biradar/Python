{
 "cells": [
  {
   "cell_type": "code",
   "execution_count": 14,
   "id": "8b0306eb-48d9-4c62-9e58-423624114501",
   "metadata": {},
   "outputs": [],
   "source": [
    "# loops : for ,while\n",
    "\n",
    "# range , break ,continue : keywords\n",
    "\n",
    "# while-else ; for-else"
   ]
  },
  {
   "cell_type": "code",
   "execution_count": 6,
   "id": "470591e4-44ad-4f97-8694-02dd5862ca72",
   "metadata": {},
   "outputs": [
    {
     "name": "stdout",
     "output_type": "stream",
     "text": [
      "0\n",
      "1\n",
      "2\n",
      "3\n",
      "4\n"
     ]
    }
   ],
   "source": [
    "# while loop\n",
    "\n",
    "count = 0\n",
    "\n",
    "while count < 5:\n",
    "    print(count)\n",
    "    count+=1"
   ]
  },
  {
   "cell_type": "code",
   "execution_count": 18,
   "id": "43027807-89f7-4b24-9e01-4782bb52b892",
   "metadata": {},
   "outputs": [
    {
     "name": "stdout",
     "output_type": "stream",
     "text": [
      "0\n",
      "1\n",
      "2\n",
      "3\n",
      "4\n",
      "count equal to 5\n"
     ]
    }
   ],
   "source": [
    "# while-else\n",
    "count = 0\n",
    "\n",
    "while count < 5:\n",
    "    print(count)\n",
    "    count+=1\n",
    "else:\n",
    "    print('count equal to 5')"
   ]
  },
  {
   "cell_type": "code",
   "execution_count": 26,
   "id": "f4178c21-ad1f-4dbf-85e4-87957241528e",
   "metadata": {},
   "outputs": [
    {
     "name": "stdout",
     "output_type": "stream",
     "text": [
      "2\n",
      "4\n",
      "6\n",
      "8\n",
      "9\n"
     ]
    }
   ],
   "source": [
    "# for\n",
    "\n",
    "l = [2,4,6,8,9]\n",
    "\n",
    "for i in l:\n",
    "    print(i)"
   ]
  },
  {
   "cell_type": "code",
   "execution_count": 32,
   "id": "71c485f9-c42d-40ec-865b-283de1fdb9c1",
   "metadata": {},
   "outputs": [
    {
     "name": "stdout",
     "output_type": "stream",
     "text": [
      "0\n",
      "1\n",
      "2\n",
      "3\n",
      "4\n",
      "i out of range\n"
     ]
    }
   ],
   "source": [
    "# for-else\n",
    "\n",
    "# range (end) ; range (start , end , step)\n",
    "\n",
    "for i in range(5):\n",
    "    print(i)\n",
    "else : \n",
    "    print('i out of range')"
   ]
  },
  {
   "cell_type": "code",
   "execution_count": 38,
   "id": "23cedad3-2de8-46e1-81b4-00e6b0d30b56",
   "metadata": {},
   "outputs": [
    {
     "name": "stdout",
     "output_type": "stream",
     "text": [
      "2\n",
      "3\n",
      "Done\n"
     ]
    }
   ],
   "source": [
    "# break : breaks out of loop\n",
    "\n",
    "l1 = [2,3,4,5,6]\n",
    "\n",
    "for i in l1:\n",
    "    if i == 4:\n",
    "        break\n",
    "    else:\n",
    "        print(i)\n",
    "        \n",
    "print('Done')"
   ]
  },
  {
   "cell_type": "code",
   "execution_count": 42,
   "id": "b33dde5a-35a6-4090-a89e-80e47e4f88dd",
   "metadata": {},
   "outputs": [
    {
     "name": "stdout",
     "output_type": "stream",
     "text": [
      "3\n",
      "4\n",
      "5\n",
      "6\n",
      "7\n",
      "8\n",
      "skipping 9\n",
      "10\n",
      "11\n",
      "12\n",
      "13\n",
      "14\n"
     ]
    }
   ],
   "source": [
    "# continue : skips code below continue and takes back to begining of loop\n",
    "\n",
    "for j in range(3,15) :\n",
    "    if j == 9:\n",
    "        print('skipping 9')\n",
    "        continue\n",
    "    print(j)\n",
    "\n",
    "# only 9 wont be printed"
   ]
  }
 ],
 "metadata": {
  "kernelspec": {
   "display_name": "Python [conda env:base] *",
   "language": "python",
   "name": "conda-base-py"
  },
  "language_info": {
   "codemirror_mode": {
    "name": "ipython",
    "version": 3
   },
   "file_extension": ".py",
   "mimetype": "text/x-python",
   "name": "python",
   "nbconvert_exporter": "python",
   "pygments_lexer": "ipython3",
   "version": "3.12.7"
  }
 },
 "nbformat": 4,
 "nbformat_minor": 5
}
