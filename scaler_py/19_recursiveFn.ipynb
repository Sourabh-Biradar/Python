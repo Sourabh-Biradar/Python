{
 "cells": [
  {
   "cell_type": "code",
   "execution_count": 10,
   "id": "3a0b0b4c-0d53-48c9-b34a-64bfd54961d3",
   "metadata": {},
   "outputs": [
    {
     "name": "stdout",
     "output_type": "stream",
     "text": [
      "24\n"
     ]
    }
   ],
   "source": [
    "# recursive functions : function that calls itself\n",
    "\n",
    "# factorial\n",
    "\n",
    "def fact(num):\n",
    "     \n",
    "    return 1 if num == 1 else num * fact(num-1)     # fact() calling fact()\n",
    "\n",
    "f = fact(4)\n",
    "print(f)"
   ]
  },
  {
   "cell_type": "code",
   "execution_count": 24,
   "id": "2691dcb6-8c12-4b35-8519-fee05cfdf42c",
   "metadata": {},
   "outputs": [
    {
     "name": "stdout",
     "output_type": "stream",
     "text": [
      "0\n",
      "1\n",
      "1\n",
      "2\n",
      "3\n"
     ]
    }
   ],
   "source": [
    "# fibonacci\n",
    "\n",
    "def fibo(num):\n",
    "    return num if num <=1 else fibo(num-1) + fibo(num-2)   # fibo() calling fibo()\n",
    "\n",
    "n = 5\n",
    "\n",
    "for i in range(n):\n",
    "    print(fibo(i))"
   ]
  }
 ],
 "metadata": {
  "kernelspec": {
   "display_name": "Python [conda env:base] *",
   "language": "python",
   "name": "conda-base-py"
  },
  "language_info": {
   "codemirror_mode": {
    "name": "ipython",
    "version": 3
   },
   "file_extension": ".py",
   "mimetype": "text/x-python",
   "name": "python",
   "nbconvert_exporter": "python",
   "pygments_lexer": "ipython3",
   "version": "3.12.7"
  }
 },
 "nbformat": 4,
 "nbformat_minor": 5
}
