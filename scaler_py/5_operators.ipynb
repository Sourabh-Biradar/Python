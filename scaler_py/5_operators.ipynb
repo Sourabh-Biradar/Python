{
 "cells": [
  {
   "cell_type": "code",
   "execution_count": 42,
   "id": "cf853858-fe28-4674-8e59-079ab911a33f",
   "metadata": {},
   "outputs": [],
   "source": [
    "# operators : arithmetic , comparision , logical , bitwise\n",
    "\n",
    "# arithmetic operators : + , - , * , / , % , // , **\n",
    "\n",
    "# a + b : '+' is operator ; 'a' 'b' are operands\n",
    "\n",
    "# floor dividion // : closer whole number & lesser than result"
   ]
  },
  {
   "cell_type": "code",
   "execution_count": 34,
   "id": "f59383ec-178a-4d9d-87bb-6f030266007f",
   "metadata": {},
   "outputs": [
    {
     "data": {
      "text/plain": [
       "4"
      ]
     },
     "execution_count": 34,
     "metadata": {},
     "output_type": "execute_result"
    }
   ],
   "source": [
    "a , b = 12 , 8\n",
    "\n",
    "# modulus / reminder : %\n",
    "\n",
    "a % b"
   ]
  },
  {
   "cell_type": "code",
   "execution_count": 32,
   "id": "b38c6ebb-3aa2-4c1d-9946-0972f8b1a348",
   "metadata": {},
   "outputs": [
    {
     "data": {
      "text/plain": [
       "8"
      ]
     },
     "execution_count": 32,
     "metadata": {},
     "output_type": "execute_result"
    }
   ],
   "source": [
    "# exponential / power : **\n",
    "\n",
    "2 ** 3   # 2 power 3"
   ]
  },
  {
   "cell_type": "code",
   "execution_count": 36,
   "id": "6a5fa8cb-cd10-4007-8479-df1141895a55",
   "metadata": {},
   "outputs": [
    {
     "data": {
      "text/plain": [
       "1"
      ]
     },
     "execution_count": 36,
     "metadata": {},
     "output_type": "execute_result"
    }
   ],
   "source": [
    "# Floor division : //\n",
    "\n",
    "# interesting case\n",
    "\n",
    "a // b"
   ]
  },
  {
   "cell_type": "code",
   "execution_count": 30,
   "id": "9aaf4d2c-4185-4ce6-8669-b7ea612a3dfc",
   "metadata": {},
   "outputs": [
    {
     "data": {
      "text/plain": [
       "-2"
      ]
     },
     "execution_count": 30,
     "metadata": {},
     "output_type": "execute_result"
    }
   ],
   "source": [
    "-a // b"
   ]
  }
 ],
 "metadata": {
  "kernelspec": {
   "display_name": "Python [conda env:base] *",
   "language": "python",
   "name": "conda-base-py"
  },
  "language_info": {
   "codemirror_mode": {
    "name": "ipython",
    "version": 3
   },
   "file_extension": ".py",
   "mimetype": "text/x-python",
   "name": "python",
   "nbconvert_exporter": "python",
   "pygments_lexer": "ipython3",
   "version": "3.12.7"
  }
 },
 "nbformat": 4,
 "nbformat_minor": 5
}
